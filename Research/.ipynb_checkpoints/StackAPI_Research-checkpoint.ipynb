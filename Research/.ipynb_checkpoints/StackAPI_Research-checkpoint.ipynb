{
 "cells": [
  {
   "cell_type": "markdown",
   "metadata": {},
   "source": [
    "# Let's Play with data from Stack Overflow API"
   ]
  },
  {
   "cell_type": "markdown",
   "metadata": {},
   "source": [
    "## All the tags on stackoverflow website"
   ]
  },
  {
   "cell_type": "code",
   "execution_count": 5,
   "metadata": {},
   "outputs": [],
   "source": [
    "import json\n",
    "import requests\n",
    "import time\n",
    "Auth_key = \"rEi)4Xt7RnJf4tqP)pk5nQ((\"\n",
    "from html import unescape"
   ]
  },
  {
   "cell_type": "code",
   "execution_count": 2,
   "metadata": {},
   "outputs": [],
   "source": [
    "has_more =1\n",
    "Words_dict = {}\n",
    "no_of_tags = str(100)"
   ]
  },
  {
   "cell_type": "code",
   "execution_count": 3,
   "metadata": {},
   "outputs": [],
   "source": [
    "page = 0"
   ]
  },
  {
   "cell_type": "code",
   "execution_count": 216,
   "metadata": {},
   "outputs": [],
   "source": [
    "back_off = 630\n",
    "while has_more:\n",
    "    page = str(int(page)+1)\n",
    "    print(\"page no\",page)\n",
    "    url = \"https://api.stackexchange.com//2.2/tags?key=\"+Auth_key+\"&page=\"+page+\"&pagesize=\"+no_of_tags+\"&order=desc&sort=popular&site=stackoverflow\"\n",
    "    r = requests.get(url)\n",
    "    top_tags = r.json()\n",
    "    for i in range(len(top_tags['items'])):\n",
    "        Words_dict[top_tags['items'][i]['name']] = top_tags['items'][i]['count']\n",
    "    has_more = top_tags['has_more']\n",
    "    back_off-=1\n",
    "    if not (back_off%90):\n",
    "        print(\"Dictionary size is\",len(Words_dict))\n",
    "        print(\"Let's wait for 2 seconds\")\n",
    "        time.sleep(2) # this was necessary because stackoverflow throttle the ip if a lot of queries are made in one second\n",
    "print(\"final dictionary size is\",len(Words_dict))"
   ]
  },
  {
   "cell_type": "code",
   "execution_count": 14,
   "metadata": {},
   "outputs": [],
   "source": [
    "# with open('SO_tags_dict_2.txt', 'w') as file:\n",
    "#      file.write(json.dumps(Words_dict))\n",
    "# file.close()"
   ]
  },
  {
   "cell_type": "markdown",
   "metadata": {},
   "source": [
    "###  all tags with count saved in SO_tags_dict.txt for future work"
   ]
  },
  {
   "cell_type": "code",
   "execution_count": 4,
   "metadata": {},
   "outputs": [],
   "source": [
    "with open('SO_tags_dict.txt', 'r') as f:\n",
    "    Words_dict = json.load(f)\n",
    "f.close()"
   ]
  },
  {
   "cell_type": "code",
   "execution_count": 6,
   "metadata": {},
   "outputs": [],
   "source": [
    "# Words_dict"
   ]
  },
  {
   "cell_type": "markdown",
   "metadata": {},
   "source": [
    "### only tags are stored in stack_overflow_tags.txt"
   ]
  },
  {
   "cell_type": "markdown",
   "metadata": {},
   "source": [
    "# All the tags with synonyms to be saved in a dict"
   ]
  },
  {
   "cell_type": "code",
   "execution_count": 15,
   "metadata": {},
   "outputs": [],
   "source": [
    "# has_more = 1\n",
    "# synonym_dict = {}"
   ]
  },
  {
   "cell_type": "code",
   "execution_count": 16,
   "metadata": {},
   "outputs": [],
   "source": [
    "# page=0"
   ]
  },
  {
   "cell_type": "code",
   "execution_count": 19,
   "metadata": {},
   "outputs": [],
   "source": [
    "# back_off = 630\n",
    "# while has_more:\n",
    "#     page = str(int(page)+1)\n",
    "#     print(\"page no\",page)\n",
    "#     url = \"https://api.stackexchange.com//2.2/tags/synonyms?key=\"+Auth_key+\"&page=\"+page+\"&pagesize=100&order=desc&sort=activity&site=stackoverflow\"\n",
    "#     r = requests.get(url)\n",
    "#     synonym_tags = r.json()\n",
    "#     for i in range(len(synonym_tags['items'])):\n",
    "#         synonym_dict[synonym_tags['items'][i]['to_tag']] = synonym_tags['items'][i]['from_tag']\n",
    "#         synonym_dict[synonym_tags['items'][i]['from_tag']] = synonym_tags['items'][i]['to_tag']\n",
    "#     has_more = synonym_tags['has_more']\n",
    "#     back_off-=1\n",
    "#     if not (back_off%90):\n",
    "#         print(\"Dictionary size is\",len(synonym_dict))\n",
    "#         print(\"Let's wait for 2 seconds\")\n",
    "#         time.sleep(2)\n",
    "# print(\"final dictionary size is\",len(synonym_dict))"
   ]
  },
  {
   "cell_type": "code",
   "execution_count": 10,
   "metadata": {},
   "outputs": [],
   "source": [
    "# final dictionary size is 6350\n",
    "# synonym_dict"
   ]
  },
  {
   "cell_type": "code",
   "execution_count": 18,
   "metadata": {},
   "outputs": [],
   "source": [
    "# with open('SO_tags_synonym.txt', 'w') as file:\n",
    "#      file.write(json.dumps(synonym_dict))\n",
    "# file.close()"
   ]
  },
  {
   "cell_type": "markdown",
   "metadata": {},
   "source": [
    "### now saved in SO_tags_synonym.txt "
   ]
  },
  {
   "cell_type": "code",
   "execution_count": 20,
   "metadata": {},
   "outputs": [],
   "source": [
    "with open('SO_tags_synonym.txt', 'r') as f:\n",
    "    synonym_dict = json.load(f)\n",
    "f.close()"
   ]
  },
  {
   "cell_type": "code",
   "execution_count": 22,
   "metadata": {},
   "outputs": [],
   "source": [
    "# synonym_dict"
   ]
  },
  {
   "cell_type": "markdown",
   "metadata": {},
   "source": [
    "# Save tags in the format watson knowledge studio wants"
   ]
  },
  {
   "cell_type": "code",
   "execution_count": 9,
   "metadata": {},
   "outputs": [],
   "source": [
    "# import csv\n",
    "# i=0\n",
    "# f1 = open('test1.csv', 'w')\n",
    "# f2 = open('test2.csv', 'w')\n",
    "# f3 = open('test3.csv', 'w')\n",
    "# f4 = open('test4.csv', 'w')\n",
    "# f1.write(\"%s,%s,%s\\n\"%(\"lemma\",\"poscode\",\"surface\"))\n",
    "# f2.write(\"%s,%s,%s\\n\"%(\"lemma\",\"poscode\",\"surface\"))\n",
    "# f3.write(\"%s,%s,%s\\n\"%(\"lemma\",\"poscode\",\"surface\"))\n",
    "# f4.write(\"%s,%s,%s\\n\"%(\"lemma\",\"poscode\",\"surface\"))\n",
    "\n",
    "# for key in Words_dict.keys():\n",
    "#     i+=1\n",
    "#     print(i)\n",
    "#     if key in synonym_dict.keys():\n",
    "#         surface = synonym_dict[key]\n",
    "#     else:\n",
    "#         surface = \"\"\n",
    "        \n",
    "#     if i < 13750:\n",
    "#         f1.write(\"%s,%s,%s\\n\"%(key,0,surface))\n",
    "#     elif 13750<i<27500: \n",
    "#         f2.write(\"%s,%s,%s\\n\"%(key,0,surface))\n",
    "#     elif 27500<i<41250:\n",
    "#         f3.write(\"%s,%s,%s\\n\"%(key,0,surface))\n",
    "#     else:\n",
    "#         f4.write(\"%s,%s,%s\\n\"%(key,0,surface))"
   ]
  },
  {
   "cell_type": "markdown",
   "metadata": {},
   "source": [
    "### save files test1 to test4 (now in tags_knowledge_studio folder)"
   ]
  },
  {
   "cell_type": "markdown",
   "metadata": {},
   "source": [
    "## All the random questions for training watson knowledge studio"
   ]
  },
  {
   "cell_type": "code",
   "execution_count": 17,
   "metadata": {},
   "outputs": [],
   "source": [
    "has_more =1\n",
    "no_of_q = str(100)"
   ]
  },
  {
   "cell_type": "code",
   "execution_count": 18,
   "metadata": {},
   "outputs": [],
   "source": [
    "page = 0 #kept in separate cell. if http or throttle error occurs we can change this value till it is done."
   ]
  },
  {
   "cell_type": "code",
   "execution_count": 19,
   "metadata": {},
   "outputs": [
    {
     "name": "stdout",
     "output_type": "stream",
     "text": [
      "File No  0\n",
      "Random0.txt is written \n",
      "\n",
      "Stackoverflow throttle limit.Let's wait for 2 seconds\n",
      "File No  1\n",
      "Random1.txt is written \n",
      "\n",
      "Stackoverflow throttle limit.Let's wait for 2 seconds\n",
      "File No  2\n",
      "Random2.txt is written \n",
      "\n",
      "Stackoverflow throttle limit.Let's wait for 2 seconds\n",
      "File No  3\n",
      "Random3.txt is written \n",
      "\n",
      "Stackoverflow throttle limit.Let's wait for 2 seconds\n",
      "File No  4\n",
      "Random4.txt is written \n",
      "\n",
      "Stackoverflow throttle limit.Let's wait for 2 seconds\n",
      "File No  5\n",
      "Random5.txt is written \n",
      "\n",
      "Stackoverflow throttle limit.Let's wait for 2 seconds\n",
      "File No  6\n",
      "Random6.txt is written \n",
      "\n",
      "Stackoverflow throttle limit.Let's wait for 2 seconds\n",
      "File No  7\n",
      "Random7.txt is written \n",
      "\n",
      "Stackoverflow throttle limit.Let's wait for 2 seconds\n",
      "File No  8\n",
      "Random8.txt is written \n",
      "\n",
      "Stackoverflow throttle limit.Let's wait for 2 seconds\n",
      "File No  9\n",
      "Random9.txt is written \n",
      "\n",
      "Stackoverflow throttle limit.Let's wait for 2 seconds\n",
      "File No  10\n",
      "Random10.txt is written \n",
      "\n",
      "Stackoverflow throttle limit.Let's wait for 2 seconds\n",
      "File No  11\n",
      "Random11.txt is written \n",
      "\n",
      "Stackoverflow throttle limit.Let's wait for 2 seconds\n",
      "File No  12\n",
      "Random12.txt is written \n",
      "\n",
      "Stackoverflow throttle limit.Let's wait for 2 seconds\n",
      "File No  13\n",
      "Random13.txt is written \n",
      "\n",
      "Stackoverflow throttle limit.Let's wait for 2 seconds\n",
      "File No  14\n",
      "Random14.txt is written \n",
      "\n",
      "Stackoverflow throttle limit.Let's wait for 2 seconds\n",
      "File No  15\n",
      "Random15.txt is written \n",
      "\n",
      "Stackoverflow throttle limit.Let's wait for 2 seconds\n",
      "File No  16\n",
      "Random16.txt is written \n",
      "\n",
      "Stackoverflow throttle limit.Let's wait for 2 seconds\n",
      "File No  17\n",
      "Random17.txt is written \n",
      "\n",
      "Stackoverflow throttle limit.Let's wait for 2 seconds\n",
      "File No  18\n",
      "Random18.txt is written \n",
      "\n",
      "Stackoverflow throttle limit.Let's wait for 2 seconds\n",
      "File No  19\n",
      "Random19.txt is written \n",
      "\n",
      "Stackoverflow throttle limit.Let's wait for 2 seconds\n",
      "File No  20\n",
      "Random20.txt is written \n",
      "\n",
      "Stackoverflow throttle limit.Let's wait for 2 seconds\n",
      "File No  21\n",
      "Random21.txt is written \n",
      "\n",
      "Stackoverflow throttle limit.Let's wait for 2 seconds\n",
      "File No  22\n",
      "Random22.txt is written \n",
      "\n",
      "Stackoverflow throttle limit.Let's wait for 2 seconds\n",
      "File No  23\n",
      "Random23.txt is written \n",
      "\n",
      "Stackoverflow throttle limit.Let's wait for 2 seconds\n",
      "File No  24\n",
      "Random24.txt is written \n",
      "\n",
      "Stackoverflow throttle limit.Let's wait for 2 seconds\n",
      "File No  25\n",
      "Random25.txt is written \n",
      "\n",
      "Stackoverflow throttle limit.Let's wait for 2 seconds\n",
      "File No  26\n",
      "Random26.txt is written \n",
      "\n",
      "Stackoverflow throttle limit.Let's wait for 2 seconds\n",
      "File No  27\n",
      "Random27.txt is written \n",
      "\n",
      "Stackoverflow throttle limit.Let's wait for 2 seconds\n",
      "File No  28\n",
      "Random28.txt is written \n",
      "\n",
      "Stackoverflow throttle limit.Let's wait for 2 seconds\n",
      "File No  29\n",
      "Random29.txt is written \n",
      "\n",
      "Done!\n"
     ]
    }
   ],
   "source": [
    "no_of_doc = 30\n",
    "for i in range(no_of_doc):\n",
    "    page = str(int(page)+1)\n",
    "    url2 = \"https://api.stackexchange.com//2.2/questions?page=\"+page+\"&pagesize=\"+no_of_q+\"&order=desc&sort=activity&site=stackoverflow\"\n",
    "    r = requests.get(url2)\n",
    "    ques = r.json()\n",
    "    print(\"File No \",i)\n",
    "    text_file = open(\"Random\"+str(i)+\".txt\", \"a\",encoding='utf-8')\n",
    "    for j in range(len(ques['items'])):\n",
    "        qstn = unescape(ques['items'][j]['title'])\n",
    "        if qstn[-1] != \"?\":\n",
    "            qstn_eta = qstn[:-2] + \".\"\n",
    "        else:\n",
    "            qstn_eta = qstn\n",
    "#         print(qstn_eta)\n",
    "#         ques_titles.append(qstn_eta)\n",
    "        text_file.write(qstn_eta)\n",
    "        text_file.write(\"\\n\")\n",
    "    text_file.close()\n",
    "    print(\"Random\"+str(i)+\".txt is written\",\"\\n\")\n",
    "    if i != (no_of_doc-1):\n",
    "        print(\"Stackoverflow throttle limit.Let's wait for 2 seconds\")\n",
    "        time.sleep(2)\n",
    "print(\"Done!\")"
   ]
  },
  {
   "cell_type": "markdown",
   "metadata": {},
   "source": [
    "### now saved in tags_knowledge_studio folder"
   ]
  },
  {
   "cell_type": "markdown",
   "metadata": {},
   "source": [
    "# Question titles for specific tag for training watson_knowledge studio"
   ]
  },
  {
   "cell_type": "code",
   "execution_count": 1,
   "metadata": {},
   "outputs": [
    {
     "name": "stdout",
     "output_type": "stream",
     "text": [
      "Type a tag from the above list => sql\n"
     ]
    }
   ],
   "source": [
    "tag_to_search = input(\"Type a tag from the above list => \")"
   ]
  },
  {
   "cell_type": "code",
   "execution_count": 6,
   "metadata": {},
   "outputs": [],
   "source": [
    "has_more =1\n",
    "no_of_qs = str(100)\n",
    "# ques_titles = []\n"
   ]
  },
  {
   "cell_type": "code",
   "execution_count": 7,
   "metadata": {},
   "outputs": [],
   "source": [
    "page = 0  #kept in separate cell. if http or throttle error occurs we can change this value till it is done."
   ]
  },
  {
   "cell_type": "code",
   "execution_count": 8,
   "metadata": {},
   "outputs": [
    {
     "name": "stdout",
     "output_type": "stream",
     "text": [
      "File No  0\n",
      "sql0.txt is written \n",
      "\n",
      "Stackoverflow throttle limit.Let's wait for 2 seconds\n",
      "File No  1\n",
      "sql1.txt is written \n",
      "\n",
      "Stackoverflow throttle limit.Let's wait for 2 seconds\n",
      "File No  2\n",
      "sql2.txt is written \n",
      "\n",
      "Stackoverflow throttle limit.Let's wait for 2 seconds\n",
      "File No  3\n",
      "sql3.txt is written \n",
      "\n",
      "Stackoverflow throttle limit.Let's wait for 2 seconds\n",
      "File No  4\n",
      "sql4.txt is written \n",
      "\n",
      "Stackoverflow throttle limit.Let's wait for 2 seconds\n",
      "File No  5\n",
      "sql5.txt is written \n",
      "\n",
      "Stackoverflow throttle limit.Let's wait for 2 seconds\n",
      "File No  6\n",
      "sql6.txt is written \n",
      "\n",
      "Stackoverflow throttle limit.Let's wait for 2 seconds\n",
      "File No  7\n",
      "sql7.txt is written \n",
      "\n",
      "Stackoverflow throttle limit.Let's wait for 2 seconds\n",
      "File No  8\n",
      "sql8.txt is written \n",
      "\n",
      "Stackoverflow throttle limit.Let's wait for 2 seconds\n",
      "File No  9\n",
      "sql9.txt is written \n",
      "\n",
      "Done!\n"
     ]
    }
   ],
   "source": [
    "no_of_doc = 10\n",
    "for i in range(no_of_doc):\n",
    "    page = str(int(page)+1)\n",
    "    url=\"https://api.stackexchange.com//2.2/tags/\"+tag_to_search+\"/faq?key=\"+Auth_key+\"&page=\"+page+\"&pagesize=\"+no_of_qs+\"&site=stackoverflow\"\n",
    "    r = requests.get(url)\n",
    "    ques = r.json()\n",
    "    print(\"File No \",i)\n",
    "    text_file = open(tag_to_search+str(i)+\".txt\", \"a\",encoding='utf-8')\n",
    "    for j in range(len(ques['items'])):\n",
    "        qstn = unescape(ques['items'][j]['title'])\n",
    "        if qstn[-1] != \"?\":\n",
    "            qstn_eta = qstn[:-2] + \".\"\n",
    "        else:\n",
    "            qstn_eta = qstn\n",
    "#         print(qstn_eta)\n",
    "#         ques_titles.append(qstn_eta)\n",
    "        text_file.write(qstn_eta)\n",
    "        text_file.write(\"\\n\")\n",
    "    text_file.close()\n",
    "    print(tag_to_search+str(i)+\".txt is written\",\"\\n\")\n",
    "    if i != (no_of_doc-1):\n",
    "        print(\"Stackoverflow throttle limit.Let's wait for 2 seconds\")\n",
    "        time.sleep(2)\n",
    "print(\"Done!\")"
   ]
  },
  {
   "cell_type": "markdown",
   "metadata": {},
   "source": [
    "# Remove the sql where,between error"
   ]
  },
  {
   "cell_type": "code",
   "execution_count": 25,
   "metadata": {},
   "outputs": [
    {
     "name": "stdout",
     "output_type": "stream",
     "text": [
      "Type a tag from the above list => c\n"
     ]
    }
   ],
   "source": [
    "tag_to_search = input(\"Type a tag from the above list => \")"
   ]
  },
  {
   "cell_type": "code",
   "execution_count": 34,
   "metadata": {},
   "outputs": [
    {
     "name": "stdout",
     "output_type": "stream",
     "text": [
      "where,between,select,etc kind of thingselect\n"
     ]
    }
   ],
   "source": [
    "intitle = input(\"where,between,select,etc kind of thing\")"
   ]
  },
  {
   "cell_type": "code",
   "execution_count": 35,
   "metadata": {},
   "outputs": [],
   "source": [
    "has_more =1\n",
    "no_of_qs = str(100)\n",
    "# ques_titles = []"
   ]
  },
  {
   "cell_type": "code",
   "execution_count": 36,
   "metadata": {},
   "outputs": [],
   "source": [
    "page = 0  #kept in separate cell. if http or throttle error occurs we can change this value till it is done."
   ]
  },
  {
   "cell_type": "code",
   "execution_count": 37,
   "metadata": {},
   "outputs": [
    {
     "name": "stdout",
     "output_type": "stream",
     "text": [
      "File No  0\n",
      "cselect.txt is written \n",
      "\n",
      "Done!\n"
     ]
    }
   ],
   "source": [
    "no_of_doc = 1\n",
    "for i in range(no_of_doc):\n",
    "    page = str(int(page)+1)\n",
    "    url=\"https://api.stackexchange.com//2.2/tags/\"+tag_to_search+\"/faq?key=\"+Auth_key+\"&page=\"+page+\"&pagesize=\"+no_of_qs+\"&site=stackoverflow\"\n",
    "    \n",
    "    url=\"https://api.stackexchange.com/2.2/search?key=\"+Auth_key+\"&page=\"+page+\"&pagesize=\"+no_of_qs+\"&order=desc&sort=activity&tagged=\"+tag_to_search+\"&intitle=\"+intitle+\"&site=stackoverflow\"\n",
    "    r = requests.get(url)\n",
    "    ques = r.json()\n",
    "    print(\"File No \",i)\n",
    "    text_file = open(tag_to_search+intitle+\".txt\", \"a\",encoding='utf-8')\n",
    "    for j in range(len(ques['items'])):\n",
    "        qstn = unescape(ques['items'][j]['title'])\n",
    "        if qstn[-1] != \"?\":\n",
    "            qstn_eta = qstn[:-2] + \".\"\n",
    "        else:\n",
    "            qstn_eta = qstn\n",
    "#         print(qstn_eta)\n",
    "#         ques_titles.append(qstn_eta)\n",
    "        text_file.write(qstn_eta)\n",
    "        text_file.write(\"\\n\")\n",
    "    text_file.close()\n",
    "    print(tag_to_search+intitle+\".txt is written\",\"\\n\")\n",
    "    if i != (no_of_doc-1):\n",
    "        print(\"Stackoverflow throttle limit.Let's wait for 2 seconds\")\n",
    "        time.sleep(2)\n",
    "print(\"Done!\")"
   ]
  },
  {
   "cell_type": "code",
   "execution_count": null,
   "metadata": {},
   "outputs": [],
   "source": []
  }
 ],
 "metadata": {
  "kernelspec": {
   "display_name": "Python 3",
   "language": "python",
   "name": "python3"
  },
  "language_info": {
   "codemirror_mode": {
    "name": "ipython",
    "version": 3
   },
   "file_extension": ".py",
   "mimetype": "text/x-python",
   "name": "python",
   "nbconvert_exporter": "python",
   "pygments_lexer": "ipython3",
   "version": "3.6.4"
  }
 },
 "nbformat": 4,
 "nbformat_minor": 2
}
